{
 "cells": [
  {
   "cell_type": "code",
   "execution_count": 17,
   "metadata": {},
   "outputs": [],
   "source": [
    "import pandas as pd\n",
    "from sklearn.preprocessing import LabelEncoder\n",
    "from sklearn.linear_model import LogisticRegression\n",
    "from sklearn.model_selection import train_test_split\n",
    "from sklearn.metrics import accuracy_score\n",
    "from sklearn.preprocessing import StandardScaler"
   ]
  },
  {
   "cell_type": "code",
   "execution_count": 2,
   "metadata": {},
   "outputs": [
    {
     "name": "stdout",
     "output_type": "stream",
     "text": [
      "   PassengerId  Survived  Pclass     Sex   Age  SibSp  Parch     Fare Embarked\n",
      "0            1         0       3    male  22.0      1      0   7.2500        S\n",
      "1            2         1       1  female  38.0      1      0  71.2833        C\n",
      "2            3         1       3  female  26.0      0      0   7.9250        S\n",
      "3            4         1       1  female  35.0      1      0  53.1000        S\n",
      "4            5         0       3    male  35.0      0      0   8.0500        S\n"
     ]
    }
   ],
   "source": [
    "train=pd.read_csv(\"train.csv\")\n",
    "train = train.drop('Name', axis=1)\n",
    "train= train.drop('Ticket', axis=1)\n",
    "train= train.drop('Cabin', axis=1)\n",
    "print(train.head())\n"
   ]
  },
  {
   "cell_type": "code",
   "execution_count": 3,
   "metadata": {},
   "outputs": [
    {
     "name": "stdout",
     "output_type": "stream",
     "text": [
      "PassengerId      0\n",
      "Survived         0\n",
      "Pclass           0\n",
      "Sex              0\n",
      "Age            177\n",
      "SibSp            0\n",
      "Parch            0\n",
      "Fare             0\n",
      "Embarked         2\n",
      "dtype: int64\n"
     ]
    }
   ],
   "source": [
    "print(train.isnull().sum())"
   ]
  },
  {
   "cell_type": "code",
   "execution_count": 5,
   "metadata": {},
   "outputs": [
    {
     "name": "stdout",
     "output_type": "stream",
     "text": [
      "   PassengerId  Survived  Pclass     Sex   Age  SibSp  Parch     Fare Embarked\n",
      "0            1         0       3    male  22.0      1      0   7.2500        S\n",
      "1            2         1       1  female  38.0      1      0  71.2833        C\n",
      "2            3         1       3  female  26.0      0      0   7.9250        S\n",
      "3            4         1       1  female  35.0      1      0  53.1000        S\n",
      "4            5         0       3    male  35.0      0      0   8.0500        S\n"
     ]
    }
   ],
   "source": [
    "median_age = train['Age'].median()\n",
    "train['Age'].fillna(median_age, inplace=True)\n",
    "most_common_embarked = train['Embarked'].value_counts().index[0]\n",
    "train['Embarked'].fillna(most_common_embarked, inplace=True)\n",
    "print(train.head())\n"
   ]
  },
  {
   "cell_type": "code",
   "execution_count": 6,
   "metadata": {},
   "outputs": [
    {
     "name": "stdout",
     "output_type": "stream",
     "text": [
      "   PassengerId  Survived  Pclass  Sex   Age  SibSp  Parch     Fare Embarked\n",
      "0            1         0       3    1  22.0      1      0   7.2500        S\n",
      "1            2         1       1    0  38.0      1      0  71.2833        C\n",
      "2            3         1       3    0  26.0      0      0   7.9250        S\n",
      "3            4         1       1    0  35.0      1      0  53.1000        S\n",
      "4            5         0       3    1  35.0      0      0   8.0500        S\n"
     ]
    }
   ],
   "source": [
    "\n",
    "# Create a LabelEncoder object\n",
    "le = LabelEncoder()\n",
    "\n",
    "# Fit and transform the \"Sex\" column in the train dataset\n",
    "train['Sex'] = le.fit_transform(train['Sex'])\n",
    "print(train.head())"
   ]
  },
  {
   "cell_type": "code",
   "execution_count": 7,
   "metadata": {},
   "outputs": [
    {
     "name": "stdout",
     "output_type": "stream",
     "text": [
      "   PassengerId  Survived  Pclass  Sex   Age  SibSp  Parch     Fare  \\\n",
      "0            1         0       3    1  22.0      1      0   7.2500   \n",
      "1            2         1       1    0  38.0      1      0  71.2833   \n",
      "2            3         1       3    0  26.0      0      0   7.9250   \n",
      "3            4         1       1    0  35.0      1      0  53.1000   \n",
      "4            5         0       3    1  35.0      0      0   8.0500   \n",
      "\n",
      "   Embarked_C  Embarked_Q  Embarked_S  \n",
      "0           0           0           1  \n",
      "1           1           0           0  \n",
      "2           0           0           1  \n",
      "3           0           0           1  \n",
      "4           0           0           1  \n"
     ]
    }
   ],
   "source": [
    "# Perform one-hot encoding on the \"Embarked\" column\n",
    "embarked_one_hot = pd.get_dummies(train['Embarked'], prefix='Embarked')\n",
    "train = pd.concat([train, embarked_one_hot], axis=1)\n",
    "\n",
    "# Drop the original \"Embarked\" column\n",
    "train = train.drop('Embarked', axis=1)\n",
    "\n",
    "print(train.head())"
   ]
  },
  {
   "cell_type": "code",
   "execution_count": 10,
   "metadata": {},
   "outputs": [
    {
     "name": "stdout",
     "output_type": "stream",
     "text": [
      "   PassengerId  Survived  Pclass  Sex   Age  SibSp  Parch     Fare  \\\n",
      "0            1         0       3    1  22.0      1      0   7.2500   \n",
      "1            2         1       1    0  38.0      1      0  71.2833   \n",
      "2            3         1       3    0  26.0      0      0   7.9250   \n",
      "3            4         1       1    0  35.0      1      0  53.1000   \n",
      "4            5         0       3    1  35.0      0      0   8.0500   \n",
      "\n",
      "   Embarked_C  Embarked_Q  Embarked_S  FamilySize Age_Category  \n",
      "0           0           0           1           2            1  \n",
      "1           1           0           0           2            1  \n",
      "2           0           0           1           1            1  \n",
      "3           0           0           1           2            1  \n",
      "4           0           0           1           1            1  \n"
     ]
    }
   ],
   "source": [
    "#Featuring Engineering\n",
    "train['FamilySize'] = train['SibSp'] + train['Parch'] + 1\n",
    "\n",
    "\n",
    "bins = [0, 18, 65, 120]\n",
    "labels = ['0', '1', '2']\n",
    "train['Age_Category'] = pd.cut(train['Age'], bins=bins, labels=labels, include_lowest=True)\n",
    "print(train.head())"
   ]
  },
  {
   "cell_type": "code",
   "execution_count": 18,
   "metadata": {},
   "outputs": [],
   "source": [
    "\n",
    "X = train.drop(['Survived'], axis=1)\n",
    "y = train['Survived']\n",
    "\n",
    "# Scale the input features\n",
    "scaler = StandardScaler()\n",
    "X_scaled = scaler.fit_transform(X)\n",
    "\n",
    "# Split the data into training and testing sets\n",
    "X_train, X_test, y_train, y_test = train_test_split(X_scaled, y, test_size=0.2, random_state=42)"
   ]
  },
  {
   "cell_type": "code",
   "execution_count": 20,
   "metadata": {},
   "outputs": [
    {
     "name": "stdout",
     "output_type": "stream",
     "text": [
      "Accuracy: 0.8044692737430168\n"
     ]
    }
   ],
   "source": [
    "# Train your logistic regression model on the scaled data\n",
    "logreg = LogisticRegression()\n",
    "logreg.fit(X_train, y_train)\n",
    "\n",
    "# Make predictions on test data\n",
    "y_pred = logreg.predict(X_test)\n",
    "\n",
    "# Evaluate model accuracy\n",
    "acc = accuracy_score(y_test, y_pred)\n",
    "print('Accuracy:', acc)"
   ]
  }
 ],
 "metadata": {
  "kernelspec": {
   "display_name": "Python 3",
   "language": "python",
   "name": "python3"
  },
  "language_info": {
   "codemirror_mode": {
    "name": "ipython",
    "version": 3
   },
   "file_extension": ".py",
   "mimetype": "text/x-python",
   "name": "python",
   "nbconvert_exporter": "python",
   "pygments_lexer": "ipython3",
   "version": "3.11.2"
  },
  "orig_nbformat": 4
 },
 "nbformat": 4,
 "nbformat_minor": 2
}
